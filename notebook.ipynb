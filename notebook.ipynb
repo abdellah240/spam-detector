{
 "cells": [
  {
   "cell_type": "markdown",
   "metadata": {},
   "source": [
    "Importing libraries"
   ]
  },
  {
   "cell_type": "code",
   "execution_count": 590,
   "metadata": {},
   "outputs": [],
   "source": [
    "import numpy as np\n",
    "import pandas as pd\n",
    "import seaborn as sns\n",
    "import matplotlib.pyplot as plt\n",
    "from nltk.corpus import stopwords\n",
    "from collections import Counter\n",
    "import string\n",
    "\n",
    "%matplotlib inline"
   ]
  },
  {
   "cell_type": "markdown",
   "metadata": {},
   "source": [
    "Reading Data"
   ]
  },
  {
   "cell_type": "code",
   "execution_count": 591,
   "metadata": {},
   "outputs": [
    {
     "data": {
      "text/html": [
       "<div>\n",
       "<style scoped>\n",
       "    .dataframe tbody tr th:only-of-type {\n",
       "        vertical-align: middle;\n",
       "    }\n",
       "\n",
       "    .dataframe tbody tr th {\n",
       "        vertical-align: top;\n",
       "    }\n",
       "\n",
       "    .dataframe thead th {\n",
       "        text-align: right;\n",
       "    }\n",
       "</style>\n",
       "<table border=\"1\" class=\"dataframe\">\n",
       "  <thead>\n",
       "    <tr style=\"text-align: right;\">\n",
       "      <th></th>\n",
       "      <th>label</th>\n",
       "      <th>sms</th>\n",
       "    </tr>\n",
       "  </thead>\n",
       "  <tbody>\n",
       "    <tr>\n",
       "      <th>0</th>\n",
       "      <td>ham</td>\n",
       "      <td>Go until jurong point, crazy.. Available only ...</td>\n",
       "    </tr>\n",
       "    <tr>\n",
       "      <th>1</th>\n",
       "      <td>ham</td>\n",
       "      <td>Ok lar... Joking wif u oni...</td>\n",
       "    </tr>\n",
       "    <tr>\n",
       "      <th>2</th>\n",
       "      <td>spam</td>\n",
       "      <td>Free entry in 2 a wkly comp to win FA Cup fina...</td>\n",
       "    </tr>\n",
       "    <tr>\n",
       "      <th>3</th>\n",
       "      <td>ham</td>\n",
       "      <td>U dun say so early hor... U c already then say...</td>\n",
       "    </tr>\n",
       "    <tr>\n",
       "      <th>4</th>\n",
       "      <td>ham</td>\n",
       "      <td>Nah I don't think he goes to usf, he lives aro...</td>\n",
       "    </tr>\n",
       "  </tbody>\n",
       "</table>\n",
       "</div>"
      ],
      "text/plain": [
       "  label                                                sms\n",
       "0   ham  Go until jurong point, crazy.. Available only ...\n",
       "1   ham                      Ok lar... Joking wif u oni...\n",
       "2  spam  Free entry in 2 a wkly comp to win FA Cup fina...\n",
       "3   ham  U dun say so early hor... U c already then say...\n",
       "4   ham  Nah I don't think he goes to usf, he lives aro..."
      ]
     },
     "execution_count": 591,
     "metadata": {},
     "output_type": "execute_result"
    }
   ],
   "source": [
    "df= pd.read_csv(\n",
    "  \"sms-dataset.csv\",\n",
    "  encoding=\"latin-1\",\n",
    "  names = [\"label\",\"sms\"],\n",
    "  usecols=[0, 1], \n",
    "  header=0\n",
    ")\n",
    "\n",
    "df.head()\n"
   ]
  },
  {
   "cell_type": "markdown",
   "metadata": {},
   "source": [
    "Descriptive Data Analysis"
   ]
  },
  {
   "cell_type": "code",
   "execution_count": 592,
   "metadata": {},
   "outputs": [
    {
     "data": {
      "text/html": [
       "<div>\n",
       "<style scoped>\n",
       "    .dataframe tbody tr th:only-of-type {\n",
       "        vertical-align: middle;\n",
       "    }\n",
       "\n",
       "    .dataframe tbody tr th {\n",
       "        vertical-align: top;\n",
       "    }\n",
       "\n",
       "    .dataframe thead th {\n",
       "        text-align: right;\n",
       "    }\n",
       "</style>\n",
       "<table border=\"1\" class=\"dataframe\">\n",
       "  <thead>\n",
       "    <tr style=\"text-align: right;\">\n",
       "      <th></th>\n",
       "      <th>label</th>\n",
       "      <th>sms</th>\n",
       "      <th>label_bool</th>\n",
       "      <th>sms_len</th>\n",
       "    </tr>\n",
       "  </thead>\n",
       "  <tbody>\n",
       "    <tr>\n",
       "      <th>0</th>\n",
       "      <td>ham</td>\n",
       "      <td>Go until jurong point, crazy.. Available only ...</td>\n",
       "      <td>0</td>\n",
       "      <td>111</td>\n",
       "    </tr>\n",
       "    <tr>\n",
       "      <th>1</th>\n",
       "      <td>ham</td>\n",
       "      <td>Ok lar... Joking wif u oni...</td>\n",
       "      <td>0</td>\n",
       "      <td>29</td>\n",
       "    </tr>\n",
       "    <tr>\n",
       "      <th>2</th>\n",
       "      <td>spam</td>\n",
       "      <td>Free entry in 2 a wkly comp to win FA Cup fina...</td>\n",
       "      <td>1</td>\n",
       "      <td>155</td>\n",
       "    </tr>\n",
       "    <tr>\n",
       "      <th>3</th>\n",
       "      <td>ham</td>\n",
       "      <td>U dun say so early hor... U c already then say...</td>\n",
       "      <td>0</td>\n",
       "      <td>49</td>\n",
       "    </tr>\n",
       "    <tr>\n",
       "      <th>4</th>\n",
       "      <td>ham</td>\n",
       "      <td>Nah I don't think he goes to usf, he lives aro...</td>\n",
       "      <td>0</td>\n",
       "      <td>61</td>\n",
       "    </tr>\n",
       "  </tbody>\n",
       "</table>\n",
       "</div>"
      ],
      "text/plain": [
       "  label                                                sms  label_bool  \\\n",
       "0   ham  Go until jurong point, crazy.. Available only ...           0   \n",
       "1   ham                      Ok lar... Joking wif u oni...           0   \n",
       "2  spam  Free entry in 2 a wkly comp to win FA Cup fina...           1   \n",
       "3   ham  U dun say so early hor... U c already then say...           0   \n",
       "4   ham  Nah I don't think he goes to usf, he lives aro...           0   \n",
       "\n",
       "   sms_len  \n",
       "0      111  \n",
       "1       29  \n",
       "2      155  \n",
       "3       49  \n",
       "4       61  "
      ]
     },
     "execution_count": 592,
     "metadata": {},
     "output_type": "execute_result"
    }
   ],
   "source": [
    "df[\"label_bool\"] = df.label.map({\"ham\":0, \"spam\":1})\n",
    "df['sms_len'] = df.sms.apply(len)\n",
    "df.head()\n"
   ]
  },
  {
   "cell_type": "markdown",
   "metadata": {},
   "source": [
    "Graphing Data"
   ]
  },
  {
   "cell_type": "code",
   "execution_count": 593,
   "metadata": {},
   "outputs": [
    {
     "data": {
      "image/png": "[encoded data removed]",
      "text/plain": [
       "<Figure size 1400x600 with 2 Axes>"
      ]
     },
     "metadata": {},
     "output_type": "display_data"
    }
   ],
   "source": [
    "ham_sms = df[df[\"label\"] == \"ham\"]\n",
    "spam_sms = df[df[\"label\"] == \"spam\"]\n",
    "\n",
    "ham_count = len(ham_sms)\n",
    "spam_count = len(spam_sms)\n",
    "\n",
    "fig, (ax1, ax2) = plt.subplots(1, 2, figsize=(14, 6), sharey=True)\n",
    "\n",
    "ham_sms['sms_len'].plot(kind=\"hist\", bins=15, color=\"green\", ax=ax1, range=(0, 200), edgecolor=\"black\")\n",
    "spam_sms['sms_len'].plot(kind=\"hist\", bins=15, color=\"red\", ax=ax2, range=(0, 200), edgecolor=\"black\")\n",
    "\n",
    "ax1.set_title(f\"Length of Non-Spam Messages (n={ham_count})\", fontsize=15)\n",
    "ax2.set_title(f\"Length of Spam Messages (n={spam_count})\", fontsize=15)\n",
    "\n",
    "for ax in [ax1, ax2]:\n",
    "    ax.set_xlabel(\"SMS Length\", fontsize=12)\n",
    "    ax.set_ylabel(\"Number of Messages\", fontsize=12)\n",
    "    ax.grid(True, linestyle='--', alpha=0.5)\n",
    "\n",
    "ax1.set_ylim(0, 1050)\n",
    "ax2.set_ylim(0, 1050)\n",
    "\n",
    "plt.tight_layout()\n",
    "plt.show()\n"
   ]
  },
  {
   "cell_type": "markdown",
   "metadata": {},
   "source": [
    "Text Filtering"
   ]
  },
  {
   "cell_type": "code",
   "execution_count": 594,
   "metadata": {},
   "outputs": [
    {
     "data": {
      "text/html": [
       "<div>\n",
       "<style scoped>\n",
       "    .dataframe tbody tr th:only-of-type {\n",
       "        vertical-align: middle;\n",
       "    }\n",
       "\n",
       "    .dataframe tbody tr th {\n",
       "        vertical-align: top;\n",
       "    }\n",
       "\n",
       "    .dataframe thead th {\n",
       "        text-align: right;\n",
       "    }\n",
       "</style>\n",
       "<table border=\"1\" class=\"dataframe\">\n",
       "  <thead>\n",
       "    <tr style=\"text-align: right;\">\n",
       "      <th></th>\n",
       "      <th>label</th>\n",
       "      <th>filtered_sms</th>\n",
       "    </tr>\n",
       "  </thead>\n",
       "  <tbody>\n",
       "    <tr>\n",
       "      <th>0</th>\n",
       "      <td>ham</td>\n",
       "      <td>go jurong point crazy available bugis n great ...</td>\n",
       "    </tr>\n",
       "    <tr>\n",
       "      <th>1</th>\n",
       "      <td>ham</td>\n",
       "      <td>lar joking wif oni</td>\n",
       "    </tr>\n",
       "    <tr>\n",
       "      <th>2</th>\n",
       "      <td>spam</td>\n",
       "      <td>free entry wkly comp win fa cup final tkts 21s...</td>\n",
       "    </tr>\n",
       "    <tr>\n",
       "      <th>3</th>\n",
       "      <td>ham</td>\n",
       "      <td>dun say early hor c already say</td>\n",
       "    </tr>\n",
       "    <tr>\n",
       "      <th>4</th>\n",
       "      <td>ham</td>\n",
       "      <td>nah think goes usf lives around though</td>\n",
       "    </tr>\n",
       "  </tbody>\n",
       "</table>\n",
       "</div>"
      ],
      "text/plain": [
       "  label                                       filtered_sms\n",
       "0   ham  go jurong point crazy available bugis n great ...\n",
       "1   ham                                 lar joking wif oni\n",
       "2  spam  free entry wkly comp win fa cup final tkts 21s...\n",
       "3   ham                    dun say early hor c already say\n",
       "4   ham             nah think goes usf lives around though"
      ]
     },
     "execution_count": 594,
     "metadata": {},
     "output_type": "execute_result"
    }
   ],
   "source": [
    "def filter_text(mess):\n",
    "   \n",
    "  STOPWORDS = ['u', 'u2', 'ur', 'r', 'im', 'ill', 'dont', '2', 'ok', ]+ stopwords.words('english') \n",
    "\n",
    "  no_punctuation = []\n",
    "  for char in mess:\n",
    "      if char not in string.punctuation:\n",
    "          no_punctuation.append(char)\n",
    "  \n",
    "  no_punctuation = ''.join(no_punctuation)  \n",
    "  words = no_punctuation.split()\n",
    "  \n",
    "  filtered_words = []\n",
    "  for word in words:\n",
    "      if word.lower() not in STOPWORDS:\n",
    "          filtered_words.append(word.lower())\n",
    "  \n",
    "  return ' '.join(filtered_words)\n",
    "\n",
    "df['filtered_sms'] = df.sms.apply(filter_text)\n",
    "df[['label','filtered_sms']].head()\n"
   ]
  },
  {
   "cell_type": "markdown",
   "metadata": {},
   "source": [
    "Most Used Words"
   ]
  },
  {
   "cell_type": "code",
   "execution_count": 595,
   "metadata": {},
   "outputs": [
    {
     "name": "stdout",
     "output_type": "stream",
     "text": [
      "Most Common Ham Words:\n",
      "[('get', 303), ('ltgt', 276), ('go', 247), ('know', 232), ('got', 231)]\n",
      "\n",
      "Most Common Spam Words:\n",
      "[('call', 347), ('free', 216), ('txt', 150), ('mobile', 123), ('text', 120)]\n"
     ]
    }
   ],
   "source": [
    "def count_words(df, label):\n",
    "    words = df[df.label == label].filtered_sms\n",
    "    count = Counter()\n",
    "    \n",
    "    for sms in words:\n",
    "        word_list = sms.split()\n",
    "        count.update(word_list)\n",
    "    \n",
    "    most_common_words = count.most_common(5)\n",
    "   \n",
    "    return [(word, count) for word, count in most_common_words]\n",
    "\n",
    "print(\"Most Common Ham Words:\")\n",
    "print(count_words(df, 'ham'))\n",
    "\n",
    "print(\"\\nMost Common Spam Words:\")\n",
    "print(count_words(df, 'spam'))\n"
   ]
  },
  {
   "cell_type": "markdown",
   "metadata": {},
   "source": [
    "Vectorization"
   ]
  },
  {
   "cell_type": "code",
   "execution_count": 596,
   "metadata": {},
   "outputs": [
    {
     "name": "stdout",
     "output_type": "stream",
     "text": [
      "Top 10 Words by TF-IDF Score\n",
      "----------------------------\n",
      " 01 |      wer      | 0.5175\n",
      " 02 |     plane     | 0.3288\n",
      " 03 |   students    | 0.3173\n",
      " 04 |     made      | 0.2596\n",
      " 05 |    saidif     | 0.1725\n",
      " 06 |    hurried    | 0.1725\n",
      " 07 |   aeroplane   | 0.1725\n",
      " 08 |  aeronautics  | 0.1725\n",
      " 09 |  professors   | 0.1725\n",
      " 10 |     calld     | 0.1725\n"
     ]
    }
   ],
   "source": [
    "from sklearn.model_selection import train_test_split\n",
    "from sklearn.feature_extraction.text import TfidfVectorizer\n",
    "\n",
    "X = df.filtered_sms\n",
    "y = df.label_bool\n",
    "X_train, X_test, y_train, y_test = train_test_split(X, y, random_state=1)\n",
    "\n",
    "vectorizer = TfidfVectorizer()\n",
    "X_train_tfidf = vectorizer.fit_transform(X_train)\n",
    "X_test_tfidf = vectorizer.transform(X_test)\n",
    "\n",
    "features = vectorizer.get_feature_names_out()\n",
    "\n",
    "tfidf_2Darray = X_train_tfidf[0].toarray()\n",
    "tfidf_array = tfidf_2Darray.flatten()\n",
    "\n",
    "sorted_indices = tfidf_array.argsort()[::-1]\n",
    "top_indices = sorted_indices[:10]\n",
    "\n",
    " \n",
    "print(\"Top 10 Words by TF-IDF Score\\n\"+ 28*\"-\")\n",
    "\n",
    "for i in range(len(top_indices)):\n",
    "    print(f\" {i + 1:02} | {features[top_indices[i]]:^13} | {tfidf_array[top_indices[i]]:.4f}\")\n"
   ]
  }
 ],
 "metadata": {
  "kernelspec": {
   "display_name": "Python 3",
   "language": "python",
   "name": "python3"
  },
  "language_info": {
   "codemirror_mode": {
    "name": "ipython",
    "version": 3
   },
   "file_extension": ".py",
   "mimetype": "text/x-python",
   "name": "python",
   "nbconvert_exporter": "python",
   "pygments_lexer": "ipython3",
   "version": "3.12.6"
  }
 },
 "nbformat": 4,
 "nbformat_minor": 2
}
